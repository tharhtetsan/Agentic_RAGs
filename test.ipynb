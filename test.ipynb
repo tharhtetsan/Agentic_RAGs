{
 "cells": [
  {
   "cell_type": "code",
   "execution_count": 1,
   "metadata": {},
   "outputs": [
    {
     "ename": "ImportError",
     "evalue": "cannot import name 'Ollama' from 'langchain_ollama' (/opt/anaconda3/envs/ths/lib/python3.12/site-packages/langchain_ollama/__init__.py)",
     "output_type": "error",
     "traceback": [
      "\u001b[0;31m---------------------------------------------------------------------------\u001b[0m",
      "\u001b[0;31mImportError\u001b[0m                               Traceback (most recent call last)",
      "Cell \u001b[0;32mIn[1], line 4\u001b[0m\n\u001b[1;32m      2\u001b[0m \u001b[38;5;28;01mfrom\u001b[39;00m \u001b[38;5;21;01mcrewai_tools\u001b[39;00m \u001b[38;5;28;01mimport\u001b[39;00m PDFSearchTool, tool\n\u001b[1;32m      3\u001b[0m \u001b[38;5;28;01mfrom\u001b[39;00m \u001b[38;5;21;01mcrewai\u001b[39;00m \u001b[38;5;28;01mimport\u001b[39;00m Agent, Crew, Task\n\u001b[0;32m----> 4\u001b[0m \u001b[38;5;28;01mfrom\u001b[39;00m \u001b[38;5;21;01mlangchain_ollama\u001b[39;00m \u001b[38;5;28;01mimport\u001b[39;00m Ollama\n\u001b[1;32m      5\u001b[0m \u001b[38;5;28;01mfrom\u001b[39;00m \u001b[38;5;21;01mlangchain_community\u001b[39;00m\u001b[38;5;21;01m.\u001b[39;00m\u001b[38;5;21;01mtools\u001b[39;00m\u001b[38;5;21;01m.\u001b[39;00m\u001b[38;5;21;01mtavily_search\u001b[39;00m \u001b[38;5;28;01mimport\u001b[39;00m TavilySearchResults\n\u001b[1;32m      7\u001b[0m \u001b[38;5;66;03m# Use a local LLM like Ollama\u001b[39;00m\n",
      "\u001b[0;31mImportError\u001b[0m: cannot import name 'Ollama' from 'langchain_ollama' (/opt/anaconda3/envs/ths/lib/python3.12/site-packages/langchain_ollama/__init__.py)"
     ]
    }
   ],
   "source": [
    "# Import necessary modules\n",
    "from crewai_tools import PDFSearchTool, tool\n",
    "from crewai import Agent, Crew, Task\n",
    "from langchain_ollama import Ollama\n",
    "from langchain_community.tools.tavily_search import TavilySearchResults\n",
    "\n",
    "# Use a local LLM like Ollama\n",
    "llm = Ollama(model=\"llama2\")\n",
    "\n",
    "# Load a PDF document into PDFSearchTool\n",
    "pdf_tool = PDFSearchTool(pdf=\"sample_document.pdf\")\n",
    "\n",
    "# Define a web search tool for comparison\n",
    "web_search_tool = TavilySearchResults()\n",
    "\n",
    "# Define a simple Router Tool\n",
    "@tool\n",
    "def simple_router_tool(question: str) -> str:\n",
    "    \"\"\"Routes queries to the appropriate resource.\"\"\"\n",
    "    if \"document\" in question.lower():\n",
    "        return \"pdf\"\n",
    "    else:\n",
    "        return \"web\"\n",
    "\n",
    "# Define Router Agent\n",
    "router_agent = Agent(\n",
    "    role=\"Router\",\n",
    "    goal=\"Route the question to PDF or Web Search based on context.\",\n",
    "    backstory=(\n",
    "        \"You are a routing assistant. You decide whether a query is about a document \"\n",
    "        \"or requires a web search.\"\n",
    "    ),\n",
    "    llm=llm,\n",
    ")\n",
    "\n",
    "# Define Router Task\n",
    "router_task = Task(\n",
    "    description=\"Analyze the question and decide whether it should be routed to PDF or Web Search.\",\n",
    "    expected_output=\"Output 'pdf' for document queries or 'web' for web search queries.\",\n",
    "    tools=[simple_router_tool],\n",
    "    agent=router_agent,\n",
    ")\n",
    "\n",
    "# Define Retriever Agent\n",
    "retriever_agent = Agent(\n",
    "    role=\"Retriever\",\n",
    "    goal=\"Retrieve information from the appropriate source.\",\n",
    "    backstory=(\n",
    "        \"You are a retriever. Use the specified tool to fetch answers from either a PDF or web source.\"\n",
    "    ),\n",
    "    llm=llm,\n",
    ")\n",
    "\n",
    "# Define Retriever Task\n",
    "retriever_task = Task(\n",
    "    description=\"Based on the router's output, retrieve the answer from the appropriate tool.\",\n",
    "    expected_output=\"Retrieve relevant text as the answer.\",\n",
    "    context=[router_task],\n",
    "    tools=[pdf_tool, web_search_tool],\n",
    "    agent=retriever_agent,\n",
    ")\n",
    "\n",
    "# Create the Crew\n",
    "simple_rag_crew = Crew(\n",
    "    agents=[router_agent, retriever_agent],\n",
    "    tasks=[router_task, retriever_task],\n",
    "    verbose=True,\n",
    ")\n",
    "\n",
    "# Test Input\n",
    "inputs = {\"question\": \"What does the document say about machine learning?\"}\n",
    "\n",
    "# Run the Crew\n",
    "response = simple_rag_crew.run(inputs)\n",
    "print(\"\\n=== Final Output ===\")\n",
    "print(response)\n"
   ]
  },
  {
   "cell_type": "code",
   "execution_count": null,
   "metadata": {},
   "outputs": [],
   "source": []
  }
 ],
 "metadata": {
  "kernelspec": {
   "display_name": "ths",
   "language": "python",
   "name": "python3"
  },
  "language_info": {
   "codemirror_mode": {
    "name": "ipython",
    "version": 3
   },
   "file_extension": ".py",
   "mimetype": "text/x-python",
   "name": "python",
   "nbconvert_exporter": "python",
   "pygments_lexer": "ipython3",
   "version": "3.12.0"
  }
 },
 "nbformat": 4,
 "nbformat_minor": 2
}
