{
 "cells": [
  {
   "cell_type": "code",
   "execution_count": 2,
   "metadata": {},
   "outputs": [],
   "source": [
    "from crewai import Agent\n",
    "from tools.browser_tools import BrowserTools\n",
    "from tools.calculator_tools import CalculatorTools\n",
    "from tools.search_tools import SearchTools"
   ]
  },
  {
   "cell_type": "code",
   "execution_count": 4,
   "metadata": {},
   "outputs": [],
   "source": [
    "from langchain_community.llms import Ollama\n",
    "llm = Ollama(\n",
    "    model=\"llama3.2:latest\",\n",
    "    temperature=0,\n",
    "    # other params...\n",
    ")"
   ]
  },
  {
   "cell_type": "markdown",
   "metadata": {},
   "source": [
    "### city_selection_agent"
   ]
  },
  {
   "cell_type": "code",
   "execution_count": null,
   "metadata": {},
   "outputs": [],
   "source": [
    "city_selection_agent = Agent(\n",
    "        role='City Selection Expert',\n",
    "        goal='Select the best city based on weather, season, and prices',\n",
    "        backstory=\n",
    "        'An expert in analyzing travel data to pick ideal destinations',\n",
    "        tools=[\n",
    "            SearchTools.search_internet,\n",
    "            BrowserTools.scrape_and_summarize_website,\n",
    "        ],\n",
    "        verbose=True,\n",
    "        llm =llm)\n"
   ]
  },
  {
   "cell_type": "code",
   "execution_count": 7,
   "metadata": {},
   "outputs": [],
   "source": [
    "local_expert_agent = Agent(\n",
    "        role='Local Expert at this city',\n",
    "        goal='Provide the BEST insights about the selected city',\n",
    "        backstory=\"\"\"A knowledgeable local guide with extensive information\n",
    "        about the city, it's attractions and customs\"\"\",\n",
    "        tools=[\n",
    "            SearchTools.search_internet,\n",
    "            BrowserTools.scrape_and_summarize_website,\n",
    "        ],\n",
    "        verbose=True,\n",
    "        llm =llm)"
   ]
  },
  {
   "cell_type": "code",
   "execution_count": 8,
   "metadata": {},
   "outputs": [],
   "source": [
    "travel_concierge_agent = Agent(\n",
    "        role='Amazing Travel Concierge',\n",
    "        goal=\"\"\"Create the most amazing travel itineraries with budget and \n",
    "        packing suggestions for the city\"\"\",\n",
    "        backstory=\"\"\"Specialist in travel planning and logistics with \n",
    "        decades of experience\"\"\",\n",
    "        tools=[\n",
    "            SearchTools.search_internet,\n",
    "            BrowserTools.scrape_and_summarize_website,\n",
    "            CalculatorTools.calculate,\n",
    "        ],\n",
    "        verbose=True,\n",
    "        llm =llm)"
   ]
  },
  {
   "cell_type": "code",
   "execution_count": null,
   "metadata": {},
   "outputs": [],
   "source": []
  }
 ],
 "metadata": {
  "kernelspec": {
   "display_name": "dev_env",
   "language": "python",
   "name": "python3"
  },
  "language_info": {
   "codemirror_mode": {
    "name": "ipython",
    "version": 3
   },
   "file_extension": ".py",
   "mimetype": "text/x-python",
   "name": "python",
   "nbconvert_exporter": "python",
   "pygments_lexer": "ipython3",
   "version": "3.10.14"
  }
 },
 "nbformat": 4,
 "nbformat_minor": 2
}
